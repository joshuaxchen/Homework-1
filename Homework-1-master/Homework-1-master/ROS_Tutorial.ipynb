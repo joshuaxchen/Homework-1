{
 "cells": [
  {
   "cell_type": "markdown",
   "metadata": {},
   "source": [
    "<p class='notebook_header'><b>CS 309 - Robot Learning</b></p>\n",
    "<p class='notebook_header'>ROS Tutorial</p>\n",
    "<hr class='separate' />"
   ]
  },
  {
   "cell_type": "markdown",
   "metadata": {},
   "source": [
    "Please go to [this ROS Tutorial page](http://wiki.ros.org/ROS/Tutorials) and complete the 1.1 \"Beginner Level\" section. Skip # 14 in the sequence (C++) and focus on the Python version that follows it. ROS is primarily targeted for Linux, so if you run into troubles on Windows/MacOS, remember that the lab machines have ROS installed on them already.\n",
    "\n",
    "To complete this task you'll meet up with a mentor and demonstrate playing back a bag file for your turtlesim program."
   ]
  },
  {
   "cell_type": "code",
   "execution_count": null,
   "metadata": {},
   "outputs": [],
   "source": []
  },
  {
   "cell_type": "code",
   "execution_count": 3,
   "metadata": {},
   "outputs": [
    {
     "data": {
      "text/html": [
       "<style> \n",
       "    p {\n",
       "        font-size:15px;\n",
       "    }\n",
       "\n",
       "    p.notebook_header {\n",
       "        text-align:center;\n",
       "        font-size:30px;\n",
       "        margin-bottom: 30px;\n",
       "    }\n",
       "\n",
       "    p.section_header {\n",
       "        text-align:left;\n",
       "        font-size:25px;\n",
       "        margin-top: 20px;\n",
       "        margin-bottom: 35px;\n",
       "    }\n",
       "\n",
       "    hr.separate {\n",
       "        height:3px;\n",
       "        border:none;\n",
       "    }\n",
       "\n",
       "    hr.light_separate {\n",
       "        height:1px;\n",
       "        border:none;\n",
       "    }\n",
       "\n",
       "    li {\n",
       "        font-size:15px;\n",
       "    }\n",
       "\n",
       "    td {\n",
       "        font-size:15px;\n",
       "    }\n",
       "\n",
       "    div.code-div {\n",
       "        text-align: center; \n",
       "        margin-top: 10px;\n",
       "        margin-bottom: 10px;       \n",
       "    }\n",
       "\n",
       "    #code {\n",
       "        background: #f4f4f4;\n",
       "        border: 1px solid #ddd;\n",
       "        font-family: monospace;\n",
       "        font-size: 15px;\n",
       "    }\n",
       "</style> "
      ],
      "text/plain": [
       "<IPython.core.display.HTML object>"
      ]
     },
     "execution_count": 3,
     "metadata": {},
     "output_type": "execute_result"
    }
   ],
   "source": [
    "# Custom CSS styling.\n",
    "from IPython.core.display import HTML\n",
    "\n",
    "HTML(open(\"./Styles/custom.css\", \"r\").read())"
   ]
  }
 ],
 "metadata": {
  "kernelspec": {
   "display_name": "Python 3",
   "language": "python",
   "name": "python3"
  },
  "language_info": {
   "codemirror_mode": {
    "name": "ipython",
    "version": 3
   },
   "file_extension": ".py",
   "mimetype": "text/x-python",
   "name": "python",
   "nbconvert_exporter": "python",
   "pygments_lexer": "ipython3",
   "version": "3.7.6"
  }
 },
 "nbformat": 4,
 "nbformat_minor": 4
}
