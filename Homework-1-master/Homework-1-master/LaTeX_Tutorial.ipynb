{
 "cells": [
  {
   "cell_type": "markdown",
   "metadata": {},
   "source": [
    "<p class='notebook_header'><b>CS 309 - Robot Learning</b></p>\n",
    "<p class='notebook_header'>Latex Tutorial</p>\n",
    "<hr class='separate' />"
   ]
  },
  {
   "cell_type": "markdown",
   "metadata": {},
   "source": [
    "LaTeX is the go-to typesetting system for writing up math expressions, Greek lettering, matrices, etc. You'll see its use throughout this class, and undoubtedly in future course (e.g. Algorithms). We hope to introduce some basic concepts here for your reference. Double click a cell to see the LaTeX that goes into each concept.\n",
    "\n",
    "<br>"
   ]
  },
  {
   "cell_type": "markdown",
   "metadata": {},
   "source": [
    "<p style=\"color:red;\">Note: This tutorial is targeted towards the rendering of LaTeX via Jupyter Notebook. You may notice some differences between how JN renders LaTeX compared to other programs (e.g. GitHub).</p>\n",
    "\n",
    "<br>"
   ]
  },
  {
   "cell_type": "markdown",
   "metadata": {},
   "source": [
    "### Marking text for rendering in LaTeX\n",
    "\n",
    "Within Jupyter Notebooks, you can mark text for rendering using the \"$\" sign. You need one at the beginning of your text and one at the end. \n",
    "\n",
    "**Example:** $ a + b = c $  \n",
    "\n",
    "You can also use two dollar signs to render the text as well as center the rendered text.\n",
    "\n",
    "**Example:** $$ a + b = c $$  \n",
    "\n",
    "Notice the formula goes to a new line even though it's written in-line to the \"example\" text. This is expected behavior to accomplish the centering.\n",
    "\n",
    "<br>"
   ]
  },
  {
   "cell_type": "markdown",
   "metadata": {},
   "source": [
    "### Spacing\n",
    "\n",
    "LaTeX can sometimes render with spacing that you're not quite happy about. This is where spacing operators come in. There's different \"sizes\" of spaces, and they can be invoked in several ways. Take a look below at how each size can be called in a variety of ways. Use the one that you like best.\n",
    "\n",
    "**Thin Space:** $ a \\, b \\mspace{3mu} c \\thinspace d $  \n",
    "\n",
    "**Medium Space:** $ a \\: b \\mspace{4mu} c $  \n",
    "\n",
    "**Thick Space:** $ a \\; b \\mspace{5mu} c $  \n",
    "\n",
    "\n",
    "Each of these can be stacked to create even larger spaces.\n",
    "\n",
    "**Stacked Space:** $ a \\:\\:\\: b $  \n",
    "\n",
    "<br>\n",
    "\n",
    "**Important Note:** Some LaTeX rendering software is more picky than others. For example, GitHub will render LaTeX differently than Jupyter Notebooks. If your LaTeX seems fine in JN but \"disappears\" on GitHub, try adding a literal space (\" \") between the different operators of your formula. You can also try adding two spaces after the last dollar sign, then hit \"enter\" for a newline.\n",
    "\n",
    "**Suggested Format:** $ a b c $  \n",
    "\n",
    "**Suitable for Jupyter Notebook:** $abc$\n",
    "\n",
    "<br>"
   ]
  },
  {
   "cell_type": "markdown",
   "metadata": {},
   "source": [
    "### Common Operators\n",
    "\n",
    "Any formula needs its good fill of operators. Here are some of the most common ones you'll be using. Notice some start with a \"\\\\\" which tells LaTeX to essentially invoke the special rendering that corresponds with the following text (until a space occurs).\n",
    "\n",
    "**Addition:** $ + $  \n",
    "\n",
    "**Multiplication:** $ * $ or $ \\times $  \n",
    "\n",
    "**Subtraction:** $ - $  \n",
    "\n",
    "**Division:** $ \\div $  \n",
    "\n",
    "**Summation:** $ \\sum $  \n",
    "\n",
    "**Integral:** $ \\int $  \n",
    "\n",
    "**Product:** $ \\prod $  \n",
    "\n",
    "<br>"
   ]
  },
  {
   "cell_type": "markdown",
   "metadata": {},
   "source": [
    "### Fractions\n",
    "\n",
    "Some operators have a rendering that's more involved than a backslash. For example, fractions:\n",
    "\n",
    "**Fraction:** $ \\frac{a}{b} $  \n",
    "\n",
    "LaTeX will include curly braces (\"{}\") to help inform what goes where in these renderings. In the fraction operator, anything in the first curly brace set will go on top, anything in the second curly brace set will go on bottom.\n",
    "\n",
    "**Long Example:** $ \\frac{a + b + c + d + e + f + g + h + i + ...}{b} $  \n",
    "\n",
    "<br>"
   ]
  },
  {
   "cell_type": "markdown",
   "metadata": {},
   "source": [
    "### Scripts (Sub/Super)\n",
    "\n",
    "Superscripts and subscripts are pretty easy in LaTeX. Use a caret followed by a curly bracket set for superscripts. Use a underscore followed by a curly bracket set for subscripts. \n",
    "\n",
    "**Superscript:** $ a^{b} $  \n",
    "\n",
    "**Subscript:** $ a_{b} $  \n",
    "\n",
    "These can be stacked/added on to pretty much anything, but you'll want to give it its own line to render properly (using double \"$\" signs).\n",
    "\n",
    "**Fraction w/ Scripts:** $$ \\frac{a}{b}_{c}^{d} $$  \n",
    "\n",
    "LaTeX is even smart enough to use these to insert text below/above operators that traditionally use that space. However you'll need to give it a whole line to render properly.\n",
    "\n",
    "**Summation w/ \"Scripts\" Incorrect:** $ \\sum_{a}^{b} $  \n",
    "\n",
    "**Summation w/ \"Scripts\" Proper:** $$ \\sum_{a}^{b} $$  \n",
    "\n",
    "<br>"
   ]
  },
  {
   "cell_type": "markdown",
   "metadata": {},
   "source": [
    "### Matricies\n",
    "\n",
    "Most useful for you now is probably matricies in the linear algebra refresher. This is how you'll most likely want to write them.\n",
    "\n",
    "**Matrix:** \n",
    "$$\n",
    "\\begin{bmatrix}\n",
    "a & b & c \\\\ \n",
    "d & e & f \\\\ \n",
    "g & h & i\n",
    "\\end{bmatrix}\n",
    "$$  \n",
    "\n",
    "A ampsersand (\"&\") denotes a new item in the row (i.e. a new column). Two backslashes denote a new row.\n",
    "\n",
    "<br>"
   ]
  },
  {
   "cell_type": "markdown",
   "metadata": {},
   "source": [
    "### Greek Letters\n",
    "\n",
    "Greek lettering is an important feature of LaTeX. For any given Greek letter LaTeX has a special \"command\" to insert it into your script. It's simply a backslash (\"\\\\\") followed by the name of the letter. \n",
    "\n",
    "**Example:** $ \\alpha \\; \\beta \\; \\gamma \\; \\delta ... $  \n",
    "\n",
    "Some uppercase Greek letters are supported by LaTeX. You can enable these by writing the first letter of the Greek letter's name in uppercase. Notice how \"\\Alpha\" and \"\\Beta\" are not supported, but \"\\Gamma\" and \"\\Delta\" are.\n",
    "\n",
    "**Example:** $ \\Alpha \\; \\Beta \\; \\Gamma \\; \\Delta ... $  \n",
    "\n",
    "<br>"
   ]
  },
  {
   "cell_type": "markdown",
   "metadata": {},
   "source": [
    "### Further Reading/Resources\n",
    "\n",
    "LaTeX is a great resource, with lots of functionality. [This wikia page](https://latex.wikia.org/wiki/List_of_LaTeX_symbols) has a comprehensive list of LaTeX functions, though some functions appear to be no longer supported. Use [this online editor](https://www.codecogs.com/latex/eqneditor.php) to help you in the beginning to find symbols/functions.\n",
    "\n",
    "<br>"
   ]
  },
  {
   "cell_type": "code",
   "execution_count": null,
   "metadata": {},
   "outputs": [],
   "source": []
  },
  {
   "cell_type": "code",
   "execution_count": 1,
   "metadata": {},
   "outputs": [
    {
     "data": {
      "text/html": [
       "<style> \n",
       "    p {\n",
       "        font-size:15px;\n",
       "    }\n",
       "\n",
       "    p.notebook_header {\n",
       "        text-align:center;\n",
       "        font-size:30px;\n",
       "        margin-bottom: 30px;\n",
       "    }\n",
       "\n",
       "    p.section_header {\n",
       "        text-align:left;\n",
       "        font-size:25px;\n",
       "        margin-top: 20px;\n",
       "        margin-bottom: 35px;\n",
       "    }\n",
       "\n",
       "    hr.separate {\n",
       "        height:3px;\n",
       "        border:none;\n",
       "    }\n",
       "\n",
       "    hr.light_separate {\n",
       "        height:1px;\n",
       "        border:none;\n",
       "    }\n",
       "\n",
       "    li {\n",
       "        font-size:15px;\n",
       "    }\n",
       "\n",
       "    td {\n",
       "        font-size:15px;\n",
       "    }\n",
       "\n",
       "    div.code-div {\n",
       "        text-align: center; \n",
       "        margin-top: 10px;\n",
       "        margin-bottom: 10px;       \n",
       "    }\n",
       "\n",
       "    #code {\n",
       "        background: #f4f4f4;\n",
       "        border: 1px solid #ddd;\n",
       "        font-family: monospace;\n",
       "        font-size: 15px;\n",
       "    }\n",
       "</style> "
      ],
      "text/plain": [
       "<IPython.core.display.HTML object>"
      ]
     },
     "execution_count": 1,
     "metadata": {},
     "output_type": "execute_result"
    }
   ],
   "source": [
    "# Custom CSS styling.\n",
    "from IPython.core.display import HTML\n",
    "\n",
    "HTML(open(\"./Styles/custom.css\", \"r\").read())"
   ]
  }
 ],
 "metadata": {
  "kernelspec": {
   "display_name": "Python 3",
   "language": "python",
   "name": "python3"
  },
  "language_info": {
   "codemirror_mode": {
    "name": "ipython",
    "version": 3
   },
   "file_extension": ".py",
   "mimetype": "text/x-python",
   "name": "python",
   "nbconvert_exporter": "python",
   "pygments_lexer": "ipython3",
   "version": "3.8.5"
  }
 },
 "nbformat": 4,
 "nbformat_minor": 4
}
