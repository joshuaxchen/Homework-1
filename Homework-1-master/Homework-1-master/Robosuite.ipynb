{
 "cells": [
  {
   "cell_type": "code",
   "execution_count": 34,
   "id": "sized-fence",
   "metadata": {},
   "outputs": [
    {
     "data": {
      "text/html": [
       "<style> \n",
       "    p {\n",
       "        font-size:15px;\n",
       "    }\n",
       "\n",
       "    p.notebook_header {\n",
       "        text-align:center;\n",
       "        font-size:30px;\n",
       "        margin-bottom: 30px;\n",
       "    }\n",
       "\n",
       "    p.section_header {\n",
       "        text-align:left;\n",
       "        font-size:25px;\n",
       "        margin-top: 20px;\n",
       "        margin-bottom: 35px;\n",
       "    }\n",
       "\n",
       "    hr.separate {\n",
       "        height:3px;\n",
       "        border:none;\n",
       "    }\n",
       "\n",
       "    hr.light_separate {\n",
       "        height:1px;\n",
       "        border:none;\n",
       "    }\n",
       "\n",
       "    li {\n",
       "        font-size:15px;\n",
       "    }\n",
       "\n",
       "    td {\n",
       "        font-size:15px;\n",
       "    }\n",
       "\n",
       "    div.code-div {\n",
       "        text-align: center; \n",
       "        margin-top: 10px;\n",
       "        margin-bottom: 10px;       \n",
       "    }\n",
       "\n",
       "    #code {\n",
       "        background: #f4f4f4;\n",
       "        border: 1px solid #ddd;\n",
       "        font-family: monospace;\n",
       "        font-size: 15px;\n",
       "    }\n",
       "</style> "
      ],
      "text/plain": [
       "<IPython.core.display.HTML object>"
      ]
     },
     "execution_count": 34,
     "metadata": {},
     "output_type": "execute_result"
    }
   ],
   "source": [
    "# Run this code block for CSS styling.\n",
    "from IPython.core.display import HTML\n",
    "\n",
    "HTML(open(\"./Styles/custom.css\", \"r\").read())"
   ]
  },
  {
   "cell_type": "markdown",
   "id": "every-michael",
   "metadata": {},
   "source": [
    "<p class='notebook_header'><b>CS 309 - Robot Learning</b></p>\n",
    "<p class='notebook_header'>Robosuite Introduction</p>\n",
    "<p>Due to the pandemic, we may not be able to access the robot. Instead, we can simulate the robot via Robosuite, a simulation framework for robot learning that's partially developed at UT.</p>\n",
    "<p>This assignment aims to get you familiar with this framework, so that you will have an eaiser time using it later in this course.</p>\n",
    "<hr class='separate' />"
   ]
  },
  {
   "cell_type": "markdown",
   "id": "abstract-publicity",
   "metadata": {},
   "source": [
    "<p class=\"section_header\"><b>Part I: Installation</b></p>"
   ]
  },
  {
   "cell_type": "markdown",
   "id": "competent-avatar",
   "metadata": {},
   "source": [
    "<p>Please follow the directions here to install robosuite: <a href=\"https://robosuite.ai/docs/installation.html\">https://robosuite.ai/docs/installation.html</a>.</p>\n",
    "Notes: \n",
    "<ol>\n",
    "    <li>When getting a Mujoco license, make sure you choose the personal student license, which is free for a year. It might take a day or so to approve your account, so get started early! </li>\n",
    "    <li>You can use a conda environment to organize your packages. Do NOT use python 3.9 - it did not work for me.</li>\n",
    "    <li>If you are on Mac and you run into this error, '<em>RuntimeError: Could not find GCC executable</em>', try doing <code>brew install gcc@8</code>. For more information, visit <a href=\"https://github.com/openai/mujoco-py/issues/254\">this site</a>.</li>\n",
    "    <li>If you are on a Mac and your system blocks mujoco from running ('library load disallowed by system policy'), use <code>xattr -d com.apple.quarantine &lt;name&gt;.</li>\n",
    "    <li>If you choose to install from pip, the command with which to test your installation <code>python -m robosuite.demos.demo_random_action</code> did not work for me. However, the installation is still usable. You can make sure by running the script provided in <a href=\"https://robosuite.ai/docs/quickstart.html\">quick start</a>. </li>\n",
    "</ol>"
   ]
  },
  {
   "cell_type": "markdown",
   "id": "supreme-rogers",
   "metadata": {},
   "source": [
    "<p class=\"section_header\"><b>Part II: Introduction</b></p>\n",
    "To get a brief overview of the framework, please read the following pages in the documentation. These concepts will be important for you to use this framework.\n",
    "<ol>\n",
    "    <li><a href=\"https://robosuite.ai/docs/overview.html\">Basic introduction</a></li>\n",
    "    <li><a href=\"https://robosuite.ai/docs/modules/overview.html\">An overview of the robosuite architecture</a></li>\n",
    "    <li><a href=\"https://robosuite.ai/docs/modules/robots.html\">An overview of robots</a></li>\n",
    "    <li><a href=\"https://robosuite.ai/docs/modules/objects.html\">An overview of objects</a></li>\n",
    "    <li><a href=\"https://robosuite.ai/docs/modules/environments.html\">An overview of environments</a></li>\n",
    "    <li>You are also encouraged to read the rest of the \"Modules\" sections of the documentation, but we won't use them in this assignment.</li>\n",
    "</ol>"
   ]
  },
  {
   "cell_type": "markdown",
   "id": "adapted-clerk",
   "metadata": {},
   "source": [
    "<p class=\"section_header\"><b>Part III: Getting Started</b></p>"
   ]
  },
  {
   "cell_type": "markdown",
   "id": "latter-married",
   "metadata": {},
   "source": [
    "Now, let's get our hands dirty.\n",
    "\n",
    "First, let's try teleoperating the robot with a keyboard.\n",
    "\n",
    "Download <a href=\"https://github.com/ARISE-Initiative/robosuite/blob/master/robosuite/demos/demo_device_control.py\">this script</a> and run it. I recommend running it in a separate python file since it's easier. If you want to run it in a cell in this notebook, you have to make sure that your jupyter notebook is using the python kernel that you installed robosuite on. Also, if the code throws an error about unrecognized arguments in jupyter, you can add a dummy input variable <code>parser.add_argument(\"-f\", \"--fff\", help=\"a dummy argument to fool ipython\", default=\"1\")</code> to the list of parser arguments (according to <a href=\"https://stackoverflow.com/questions/48796169/how-to-fix-ipykernel-launcher-py-error-unrecognized-arguments-in-jupyter\">this post</a>).\n",
    "\n",
    "It's possible that it will throw an error about SpaceMouse. The workaround I found was to delete the reference to SpaceMouse in the utils/input_utils.py file. Namely, change line 246 and 247 to <code>drotation = drotation * 1.5 dpos = dpos * 75</code>.\n",
    "If you have installed robosuite with pip, you can find the utils folder in the site-packages folder of your python installation. You can find the site-packages folder through <code>python -m site</code>. For example, mine is <code>miniconda3/envs/robosuite/lib/python3.8/site-packages/</code>.\n",
    "\n",
    "If the code successfully runs, then you should be able to control the robot arm with your keyboard. \n",
    "\n",
    "<hr/>\n",
    "\n"
   ]
  },
  {
   "cell_type": "markdown",
   "id": "maritime-valley",
   "metadata": {},
   "source": [
    "Now, let's try creating your own environment.\n",
    "\n",
    "Follow <a href=\"https://robosuite.ai/docs/quickstart.html#building-your-own-environments\">this guide</a> to create your own environment. Make sure you understand what each line of the code does. \n",
    "\n",
    "As of right now, the step 4 isn't compliant with the current API. \n",
    "You should use get_obj() to get the XML tree instead of get_collision(). Also, objects by default have a free joint, so you shouldn't append a new joint. Therefore, the code should be <code>\n",
    "    sphere = BallObject(\n",
    "    name=\"sphere\",\n",
    "    size=[0.04],\n",
    "    rgba=[0, 0.5, 0.5, 1]).get_obj()\n",
    "    sphere.set('pos', '1.0 0 1.0')\n",
    "    world.worldbody.append(sphere)\n",
    "</code>I have reported this issue to the robosuite team, but they might not have addressed it yet.\n",
    "\n",
    "If your code runs, you should be able to see your custom environment rendered in an interactive window. \n",
    "\n",
    "Be prepared to show your custom environment during office hour.\n",
    "<hr/>"
   ]
  },
  {
   "cell_type": "markdown",
   "id": "demonstrated-soviet",
   "metadata": {},
   "source": [
    "Below are some python cells to help you explore the robosuite API. Please run each cell and make sure that you understand them. Feel free to experiment with the code and insert print statements to examine the data structures.\n",
    "\n",
    "Again, make sure that your python kernel for Jupyter Notebook has robosuite installed.\n",
    "\n",
    "Credits to <a href=\"https://github.com/ARISE-Initiative/robosuite-notebooks/blob/master/robosuite_101.ipynb\">Yuke Zhu</a> for the code."
   ]
  },
  {
   "cell_type": "code",
   "execution_count": null,
   "id": "interested-omega",
   "metadata": {
    "collapsed": false,
    "jupyter": {
     "outputs_hidden": false
    }
   },
   "outputs": [],
   "source": [
    "import numpy as np\n",
    "import robosuite as suite\n",
    "\n",
    "from PIL import Image\n",
    "from IPython.display import display"
   ]
  },
  {
   "cell_type": "code",
   "execution_count": null,
   "id": "stylish-feature",
   "metadata": {
    "collapsed": false,
    "jupyter": {
     "outputs_hidden": false
    }
   },
   "outputs": [],
   "source": [
    "suite.ALL_ENVIRONMENTS"
   ]
  },
  {
   "cell_type": "code",
   "execution_count": null,
   "id": "expired-anxiety",
   "metadata": {
    "collapsed": false,
    "jupyter": {
     "outputs_hidden": false
    }
   },
   "outputs": [],
   "source": [
    "suite.ALL_ROBOTS"
   ]
  },
  {
   "cell_type": "code",
   "execution_count": null,
   "id": "viral-assault",
   "metadata": {
    "collapsed": false,
    "jupyter": {
     "outputs_hidden": false
    }
   },
   "outputs": [],
   "source": [
    "suite.ALL_GRIPPERS"
   ]
  },
  {
   "cell_type": "code",
   "execution_count": null,
   "id": "consistent-attempt",
   "metadata": {
    "collapsed": false,
    "jupyter": {
     "outputs_hidden": false
    }
   },
   "outputs": [],
   "source": [
    "suite.ALL_CONTROLLERS"
   ]
  },
  {
   "cell_type": "code",
   "execution_count": null,
   "id": "typical-corpus",
   "metadata": {
    "collapsed": false,
    "jupyter": {
     "outputs_hidden": false
    }
   },
   "outputs": [],
   "source": [
    "env = suite.make(\n",
    "    env_name=\"Lift\",\n",
    "    robots=\"Sawyer\",\n",
    "    has_renderer=False,\n",
    "    ignore_done=True,\n",
    "    use_camera_obs=True,\n",
    "    camera_names=[\"frontview\", \"agentview\"]\n",
    ")\n",
    "\n",
    "obs = env.reset()"
   ]
  },
  {
   "cell_type": "code",
   "execution_count": null,
   "id": "paperback-nirvana",
   "metadata": {
    "collapsed": false,
    "jupyter": {
     "outputs_hidden": false
    }
   },
   "outputs": [],
   "source": [
    "frontview = Image.fromarray(obs['frontview_image'][::-1])\n",
    "display(frontview)"
   ]
  },
  {
   "cell_type": "code",
   "execution_count": null,
   "id": "proud-miller",
   "metadata": {
    "collapsed": false,
    "jupyter": {
     "outputs_hidden": false
    }
   },
   "outputs": [],
   "source": [
    "agentview = Image.fromarray(obs['agentview_image'][::-1])\n",
    "display(agentview)"
   ]
  },
  {
   "cell_type": "code",
   "execution_count": null,
   "id": "exempt-former",
   "metadata": {
    "collapsed": false,
    "jupyter": {
     "outputs_hidden": false
    }
   },
   "outputs": [],
   "source": [
    "low, high = env.action_spec # get action limits\n",
    "for i in range(100):\n",
    "    action = np.random.uniform(low, high) # sample random action\n",
    "    obs, reward, done, _ = env.step(action)\n",
    "    \n",
    "display(Image.fromarray(obs['frontview_image'][::-1]))"
   ]
  },
  {
   "cell_type": "code",
   "execution_count": null,
   "id": "inappropriate-blanket",
   "metadata": {
    "collapsed": false,
    "jupyter": {
     "outputs_hidden": false
    }
   },
   "outputs": [],
   "source": [
    "print('number of bodies:', env.sim.model.nbody)\n",
    "print('number of joints:', env.sim.model.njnt)\n",
    "print('number of generalized coordinates:', env.sim.model.nq)\n",
    "print('number of degrees of freedom:', env.sim.model.nv)\n",
    "print('number of degrees of freedom:', env.sim.model.nu)\n",
    "print('number of activation states:', env.sim.model.na)"
   ]
  },
  {
   "cell_type": "code",
   "execution_count": null,
   "id": "acute-alfred",
   "metadata": {
    "collapsed": false,
    "jupyter": {
     "outputs_hidden": false
    }
   },
   "outputs": [],
   "source": [
    "print(env.sim.model.body_names)"
   ]
  },
  {
   "cell_type": "code",
   "execution_count": null,
   "id": "introductory-result",
   "metadata": {
    "collapsed": false,
    "jupyter": {
     "outputs_hidden": false
    }
   },
   "outputs": [],
   "source": [
    "body_id = 1\n",
    "\n",
    "print(env.sim.model.body_names[body_id])\n",
    "print(env.sim.data.body_xpos[body_id])\n",
    "print(env.sim.data.body_xquat[body_id])\n",
    "\n",
    "body_id = -1\n",
    "\n",
    "print()\n",
    "print(env.sim.model.body_names[body_id])\n",
    "print('Frame origin:\\n', env.sim.data.body_xpos[body_id])\n",
    "print('\\nRotation quaternion:\\n', env.sim.data.body_xquat[body_id])\n",
    "print('\\nRotation matrix:\\n', env.sim.data.body_xmat[body_id].reshape(3,3))"
   ]
  },
  {
   "cell_type": "code",
   "execution_count": null,
   "id": "processed-dressing",
   "metadata": {
    "collapsed": false,
    "jupyter": {
     "outputs_hidden": false
    }
   },
   "outputs": [],
   "source": [
    "# simple example of coordinate transformations\n",
    "import robosuite.utils.transform_utils as T\n",
    "\n",
    "T.quat2mat(T.convert_quat(np.array(env.sim.data.body_xquat[body_id]), to=\"xyzw\"))"
   ]
  },
  {
   "cell_type": "code",
   "execution_count": null,
   "id": "compressed-vacuum",
   "metadata": {
    "collapsed": false,
    "jupyter": {
     "outputs_hidden": false
    }
   },
   "outputs": [],
   "source": [
    "env.sim.data.body_xmat[body_id].reshape(3, 3)"
   ]
  },
  {
   "cell_type": "code",
   "execution_count": null,
   "id": "royal-being",
   "metadata": {
    "collapsed": false,
    "jupyter": {
     "outputs_hidden": false
    }
   },
   "outputs": [],
   "source": [
    "env.sim.data.body_xpos[body_id]"
   ]
  },
  {
   "cell_type": "code",
   "execution_count": null,
   "id": "innovative-relationship",
   "metadata": {
    "collapsed": false,
    "jupyter": {
     "outputs_hidden": false
    }
   },
   "outputs": [],
   "source": [
    "# get information of all bodies\n",
    "for i in range(env.sim.model.nbody):\n",
    "    name = env.sim.model.body_names[i]\n",
    "    body_id = env.sim.model.body_name2id(name)\n",
    "    body_xpos = env.sim.data.body_xpos[body_id]\n",
    "    print(body_id, name, body_xpos)"
   ]
  },
  {
   "cell_type": "markdown",
   "id": "modular-supervision",
   "metadata": {},
   "source": [
    "<p class=\"section_header\"><b>Part IV: Record Human Demonstration</b></p>"
   ]
  },
  {
   "cell_type": "markdown",
   "id": "pending-volume",
   "metadata": {},
   "source": [
    "The primary topic of this research class is learning by demonstration. With robosuite, it's really easy to record human demonstrations.\n",
    "\n",
    "In this final part of the assignment, you will learn to record and play back a human demonstration."
   ]
  },
  {
   "cell_type": "markdown",
   "id": "japanese-glenn",
   "metadata": {},
   "source": [
    "Using the collect human demonstration and play back demonstrations from hdf5.py scripts from <a href=\"https://github.com/ARISE-Initiative/robosuite/tree/master/robosuite/scripts\">here</a>, record and play back an episode of the Stack environment.\n",
    "\n",
    "Make sure to read the comments in source code to understand how to use them. If you have followed part III, you should not have any issues with the SpaceMouse error. \n",
    "\n",
    "Get ready to show the playback of your demontration during office hours."
   ]
  }
 ],
 "metadata": {
  "kernelspec": {
   "display_name": "Python 3",
   "language": "python",
   "name": "python3"
  },
  "language_info": {
   "codemirror_mode": {
    "name": "ipython",
    "version": 3
   },
   "file_extension": ".py",
   "mimetype": "text/x-python",
   "name": "python",
   "nbconvert_exporter": "python",
   "pygments_lexer": "ipython3",
   "version": "3.8.5"
  }
 },
 "nbformat": 4,
 "nbformat_minor": 5
}
